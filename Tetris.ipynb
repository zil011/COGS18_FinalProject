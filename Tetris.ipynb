{
 "cells": [
  {
   "cell_type": "markdown",
   "metadata": {},
   "source": [
    "# Tetris "
   ]
  },
  {
   "cell_type": "markdown",
   "metadata": {},
   "source": [
    "COGS 18 Final Project: Tetris\n",
    "\n",
    "Tetris is a tile-matching puzzle game first designed by Soviet Russian game designer Alexey Leonidovich Pajitnov.\n",
    "\n"
   ]
  },
  {
   "cell_type": "markdown",
   "metadata": {},
   "source": [
    "## Based on this guide created by Professor David Kosbie\n",
    "\n",
    "https://www.cs.cmu.edu/~112/notes/notes-tetris/index.html\n",
    "\n",
    "Author: Zijian Liu\n",
    "\n",
    "PID: A15723355\n",
    "\n",
    "Instructor: Professor Shannon Ellis\n",
    "\n",
    "Spring 2019\n",
    "\n",
    "\n"
   ]
  },
  {
   "cell_type": "markdown",
   "metadata": {},
   "source": [
    "## Project Code\n"
   ]
  },
  {
   "cell_type": "code",
   "execution_count": 38,
   "metadata": {},
   "outputs": [
    {
     "name": "stdout",
     "output_type": "stream",
     "text": [
      "bye!\n"
     ]
    }
   ],
   "source": [
    "from tkinter import *\n",
    "\n",
    "import random\n",
    "\n",
    "import Tetris\n",
    "\n",
    "\n",
    "run(playTetris()[0]\n",
    ",playTetris()[1])\n",
    "# upon successful launching the game then closing it, should print \"bye!\"\n",
    "# If it says \"NameError: name 'Tk' is not defined\", something went wrong\n",
    "# I haven't figure out a way to fix it yet"
   ]
  },
  {
   "cell_type": "code",
   "execution_count": null,
   "metadata": {},
   "outputs": [],
   "source": []
  }
 ],
 "metadata": {
  "kernelspec": {
   "display_name": "Python 3",
   "language": "python",
   "name": "python3"
  },
  "language_info": {
   "codemirror_mode": {
    "name": "ipython",
    "version": 3
   },
   "file_extension": ".py",
   "mimetype": "text/x-python",
   "name": "python",
   "nbconvert_exporter": "python",
   "pygments_lexer": "ipython3",
   "version": "3.7.3"
  }
 },
 "nbformat": 4,
 "nbformat_minor": 2
}
